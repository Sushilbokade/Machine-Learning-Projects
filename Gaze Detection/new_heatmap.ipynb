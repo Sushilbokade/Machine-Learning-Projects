{
 "cells": [
  {
   "cell_type": "code",
   "execution_count": 4,
   "metadata": {},
   "outputs": [],
   "source": [
    "import matplotlib.pyplot as plt\n",
    "import numpy as np\n",
    "import math"
   ]
  },
  {
   "cell_type": "code",
   "execution_count": 5,
   "metadata": {},
   "outputs": [],
   "source": [
    "def heatmap(data):\n",
    "    #POINT DATASET\n",
    "    x = []\n",
    "    y = []\n",
    "    for key, value in data.items():\n",
    "        if key == 'top_left':\n",
    "            for i in range(value):\n",
    "                y.append(50)\n",
    "                x.append(15)\n",
    "        elif key == 'mid_left':\n",
    "            for i in range(value):\n",
    "                y.append(30)\n",
    "                x.append(15)\n",
    "        elif key == 'down_left':\n",
    "            for i in range(value):\n",
    "                y.append(15)\n",
    "                x.append(15)\n",
    "        elif key == 'top_center':\n",
    "            for i in range(value):\n",
    "                y.append(50)\n",
    "                x.append(30)\n",
    "        elif key == 'mid_center':\n",
    "            for i in range(value):\n",
    "                y.append(30)\n",
    "                x.append(30)\n",
    "        elif key == 'down_center':\n",
    "            for i in range(value):\n",
    "                y.append(15)\n",
    "                x.append(30)        \n",
    "        elif key == 'top_right':\n",
    "            for i in range(value):\n",
    "                y.append(50)\n",
    "                x.append(45)\n",
    "        elif key == 'mid_right':\n",
    "            for i in range(value):\n",
    "                y.append(30)\n",
    "                x.append(45)\n",
    "        elif key == 'down_right':\n",
    "            for i in range(value):\n",
    "                y.append(15)\n",
    "                x.append(45)\n",
    "    \n",
    "    #DEFINE GRID SIZE AND RADIUS(h)\n",
    "    grid_size=1\n",
    "    h=10\n",
    "\n",
    "    #GETTING X,Y MIN AND MAX\n",
    "    x_min=min(x)\n",
    "    x_max=max(x)\n",
    "    y_min=min(y)\n",
    "    y_max=max(y)\n",
    "\n",
    "    #CONSTRUCT GRID\n",
    "    x_grid=np.arange(x_min-h,x_max+h,grid_size)\n",
    "    y_grid=np.arange(y_min-h,y_max+h,grid_size)\n",
    "    x_mesh,y_mesh=np.meshgrid(x_grid,y_grid)\n",
    "\n",
    "    #GRID CENTER POINT\n",
    "    xc=x_mesh+(grid_size/2)\n",
    "    yc=y_mesh+(grid_size/2)\n",
    "\n",
    "    #FUNCTION TO CALCULATE INTENSITY WITH QUARTIC KERNEL\n",
    "    def kde_quartic(d,h):\n",
    "        dn=d/h\n",
    "        P=(15/16)*(1-dn**2)**2\n",
    "        return P\n",
    "\n",
    "    #PROCESSING\n",
    "    intensity_list=[]\n",
    "    for j in range(len(xc)):\n",
    "        intensity_row=[]\n",
    "        for k in range(len(xc[0])):\n",
    "            kde_value_list=[]\n",
    "            for i in range(len(x)):\n",
    "                #CALCULATE DISTANCE\n",
    "                d=math.sqrt((xc[j][k]-x[i])**2+(yc[j][k]-y[i])**2) \n",
    "                if d<=h:\n",
    "                    p=kde_quartic(d,h)\n",
    "                else:\n",
    "                    p=0\n",
    "                kde_value_list.append(p)\n",
    "            #SUM ALL INTENSITY VALUE\n",
    "            p_total=sum(kde_value_list)\n",
    "            intensity_row.append(p_total)\n",
    "        intensity_list.append(intensity_row)\n",
    "\n",
    "    #HEATMAP OUTPUT    \n",
    "    intensity=np.array(intensity_list)\n",
    "    plt.pcolormesh(x_mesh,y_mesh,intensity)\n",
    "    plt.plot(x,y,'ro')\n",
    "    plt.colorbar()\n",
    "    plt.show()\n",
    "\n",
    "\n",
    "    return data"
   ]
  },
  {
   "cell_type": "code",
   "execution_count": 6,
   "metadata": {},
   "outputs": [
    {
     "data": {
      "image/png": "[encoded data removed]",
      "text/plain": [
       "<Figure size 640x480 with 2 Axes>"
      ]
     },
     "metadata": {},
     "output_type": "display_data"
    }
   ],
   "source": [
    "if __name__ == '__main__':\n",
    "    data = {'top_left': 1, 'mid_left': 36, 'down_left': 51, 'top_center': 52, 'mid_center': 31, 'down_center': 3, 'top_right': 6, 'mid_right': 8, 'down_right': 0}\n",
    "    heatmap(data)"
   ]
  },
  {
   "cell_type": "code",
   "execution_count": null,
   "metadata": {},
   "outputs": [],
   "source": []
  }
 ],
 "metadata": {
  "kernelspec": {
   "display_name": "Python 3.10.8 64-bit (microsoft store)",
   "language": "python",
   "name": "python3"
  },
  "language_info": {
   "codemirror_mode": {
    "name": "ipython",
    "version": 3
   },
   "file_extension": ".py",
   "mimetype": "text/x-python",
   "name": "python",
   "nbconvert_exporter": "python",
   "pygments_lexer": "ipython3",
   "version": "3.10.10"
  },
  "orig_nbformat": 4,
  "vscode": {
   "interpreter": {
    "hash": "78cffa4b54e1dadd270a74e0b96781ab73e56d10dec0724c7f5a74f66fee3246"
   }
  }
 },
 "nbformat": 4,
 "nbformat_minor": 2
}
